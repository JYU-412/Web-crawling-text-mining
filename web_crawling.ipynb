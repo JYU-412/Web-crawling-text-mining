{
 "cells": [
  {
   "cell_type": "markdown",
   "metadata": {
    "slideshow": {
     "slide_type": "slide"
    }
   },
   "source": [
    "# Web scraping with python \n"
   ]
  },
  {
   "cell_type": "markdown",
   "metadata": {
    "slideshow": {
     "slide_type": "fragment"
    }
   },
   "source": [
    "This is a simple demo of how to use python for web scraping and text mining. Python libraries used for web scraping includes: Beautifulsoup, xpath, scrapy. This demo used beautifulsoup for web scraping."
   ]
  },
  {
   "cell_type": "markdown",
   "metadata": {
    "slideshow": {
     "slide_type": "subslide"
    }
   },
   "source": [
    "Disclaimer: this is a simple demo use Web of science as an example. Since WoS provide fee-based services, You may not able to reproduce the results, depending on whether you have access to their services. You may also need to modify the \"http\" address. You may copy or reproduced the codes, but solely on your computer and for your personal, non-commercial use. "
   ]
  },
  {
   "cell_type": "markdown",
   "metadata": {
    "slideshow": {
     "slide_type": "skip"
    }
   },
   "source": [
    "## A demo from Beautifulsoup  "
   ]
  },
  {
   "cell_type": "markdown",
   "metadata": {
    "slideshow": {
     "slide_type": "skip"
    }
   },
   "source": [
    "#### Let's first get some basic ideas of beautifulsoup. This example is from the official doctument"
   ]
  },
  {
   "cell_type": "code",
   "execution_count": 1,
   "metadata": {
    "slideshow": {
     "slide_type": "skip"
    }
   },
   "outputs": [],
   "source": [
    "import requests\n",
    "from bs4 import BeautifulSoup"
   ]
  },
  {
   "cell_type": "code",
   "execution_count": 2,
   "metadata": {
    "slideshow": {
     "slide_type": "skip"
    }
   },
   "outputs": [
    {
     "data": {
      "text/plain": [
       "<html><head><title>The Dormouse's story</title></head>\n",
       "<body>\n",
       "<p class=\"title\"><b>The Dormouse's story</b></p>\n",
       "<p class=\"story\">Once upon a time there were three little sisters; and their names were\n",
       "<a class=\"sister\" href=\"http://example.com/elsie\" id=\"link1\">Elsie</a>,\n",
       "<a class=\"sister\" href=\"http://example.com/lacie\" id=\"link2\">Lacie</a> and\n",
       "<a class=\"sister\" href=\"http://example.com/tillie\" id=\"link3\">Tillie</a>;\n",
       "and they lived at the bottom of a well.</p>\n",
       "<p class=\"story\">...</p></body></html>"
      ]
     },
     "execution_count": 2,
     "metadata": {},
     "output_type": "execute_result"
    }
   ],
   "source": [
    "url = 'http://computational-class.github.io/bigdata/data/test.html'\n",
    "content = requests.get(url)\n",
    "content = content.text\n",
    "soup = BeautifulSoup(content, 'html.parser') \n",
    "soup"
   ]
  },
  {
   "cell_type": "code",
   "execution_count": 3,
   "metadata": {
    "slideshow": {
     "slide_type": "skip"
    }
   },
   "outputs": [
    {
     "name": "stdout",
     "output_type": "stream",
     "text": [
      "<html>\n",
      " <head>\n",
      "  <title>\n",
      "   The Dormouse's story\n",
      "  </title>\n",
      " </head>\n",
      " <body>\n",
      "  <p class=\"title\">\n",
      "   <b>\n",
      "    The Dormouse's story\n",
      "   </b>\n",
      "  </p>\n",
      "  <p class=\"story\">\n",
      "   Once upon a time there were three little sisters; and their names were\n",
      "   <a class=\"sister\" href=\"http://example.com/elsie\" id=\"link1\">\n",
      "    Elsie\n",
      "   </a>\n",
      "   ,\n",
      "   <a class=\"sister\" href=\"http://example.com/lacie\" id=\"link2\">\n",
      "    Lacie\n",
      "   </a>\n",
      "   and\n",
      "   <a class=\"sister\" href=\"http://example.com/tillie\" id=\"link3\">\n",
      "    Tillie\n",
      "   </a>\n",
      "   ;\n",
      "and they lived at the bottom of a well.\n",
      "  </p>\n",
      "  <p class=\"story\">\n",
      "   ...\n",
      "  </p>\n",
      " </body>\n",
      "</html>\n"
     ]
    }
   ],
   "source": [
    "print(soup.prettify())"
   ]
  },
  {
   "cell_type": "markdown",
   "metadata": {
    "slideshow": {
     "slide_type": "skip"
    }
   },
   "source": [
    "#### Several way to extract information from the source code"
   ]
  },
  {
   "cell_type": "code",
   "execution_count": 82,
   "metadata": {
    "slideshow": {
     "slide_type": "skip"
    }
   },
   "outputs": [
    {
     "data": {
      "text/plain": [
       "\"The Dormouse's story\""
      ]
     },
     "execution_count": 82,
     "metadata": {},
     "output_type": "execute_result"
    }
   ],
   "source": [
    "soup.select('body > p.title > b')[0].text"
   ]
  },
  {
   "cell_type": "code",
   "execution_count": 83,
   "metadata": {
    "slideshow": {
     "slide_type": "skip"
    }
   },
   "outputs": [
    {
     "data": {
      "text/plain": [
       "[<a class=\"sister\" href=\"http://example.com/elsie\" id=\"link1\">Elsie</a>,\n",
       " <a class=\"sister\" href=\"http://example.com/lacie\" id=\"link2\">Lacie</a>,\n",
       " <a class=\"sister\" href=\"http://example.com/tillie\" id=\"link3\">Tillie</a>]"
      ]
     },
     "execution_count": 83,
     "metadata": {},
     "output_type": "execute_result"
    }
   ],
   "source": [
    "soup.select('a')"
   ]
  },
  {
   "cell_type": "code",
   "execution_count": 84,
   "metadata": {
    "slideshow": {
     "slide_type": "skip"
    }
   },
   "outputs": [
    {
     "data": {
      "text/plain": [
       "<a class=\"sister\" href=\"http://example.com/elsie\" id=\"link1\">Elsie</a>"
      ]
     },
     "execution_count": 84,
     "metadata": {},
     "output_type": "execute_result"
    }
   ],
   "source": [
    "soup.find_all('a', {'class', 'sister'})[0]"
   ]
  },
  {
   "cell_type": "code",
   "execution_count": 19,
   "metadata": {
    "slideshow": {
     "slide_type": "skip"
    }
   },
   "outputs": [
    {
     "data": {
      "text/plain": [
       "<a class=\"sister\" href=\"http://example.com/elsie\" id=\"link1\">Elsie</a>"
      ]
     },
     "execution_count": 19,
     "metadata": {},
     "output_type": "execute_result"
    }
   ],
   "source": [
    "soup.select('.sister')[0]"
   ]
  },
  {
   "cell_type": "code",
   "execution_count": 22,
   "metadata": {
    "slideshow": {
     "slide_type": "skip"
    }
   },
   "outputs": [
    {
     "data": {
      "text/plain": [
       "'link1'"
      ]
     },
     "execution_count": 22,
     "metadata": {},
     "output_type": "execute_result"
    }
   ],
   "source": [
    "soup.select('#link1')[0]['id']"
   ]
  },
  {
   "cell_type": "code",
   "execution_count": 23,
   "metadata": {
    "slideshow": {
     "slide_type": "skip"
    }
   },
   "outputs": [
    {
     "name": "stdout",
     "output_type": "stream",
     "text": [
      "The Dormouse's story\n",
      "Once upon a time there were three little sisters; and their names were\n",
      "Elsie,\n",
      "Lacie and\n",
      "Tillie;\n",
      "and they lived at the bottom of a well.\n",
      "...\n"
     ]
    }
   ],
   "source": [
    "for i in soup('p'):\n",
    "    print(i.text)"
   ]
  },
  {
   "cell_type": "code",
   "execution_count": 24,
   "metadata": {
    "slideshow": {
     "slide_type": "skip"
    }
   },
   "outputs": [
    {
     "name": "stdout",
     "output_type": "stream",
     "text": [
      "The Dormouse's story\n",
      "\n",
      "The Dormouse's story\n",
      "Once upon a time there were three little sisters; and their names were\n",
      "Elsie,\n",
      "Lacie and\n",
      "Tillie;\n",
      "and they lived at the bottom of a well.\n",
      "...\n"
     ]
    }
   ],
   "source": [
    "print(soup.get_text())"
   ]
  },
  {
   "cell_type": "markdown",
   "metadata": {
    "slideshow": {
     "slide_type": "skip"
    }
   },
   "source": [
    "#### using xpath - Get an article title from pubmed"
   ]
  },
  {
   "cell_type": "code",
   "execution_count": 56,
   "metadata": {
    "slideshow": {
     "slide_type": "skip"
    }
   },
   "outputs": [],
   "source": [
    "from lxml import html\n",
    "import requests\n",
    "page = requests.get('https://www.ncbi.nlm.nih.gov/pubmed/15986988')\n",
    "tree = html.fromstring(page.content)"
   ]
  },
  {
   "cell_type": "markdown",
   "metadata": {
    "slideshow": {
     "slide_type": "skip"
    }
   },
   "source": [
    "The path you need you find AND copy: Highlight the title in chrome, right click-inspect-finding corresponding code-right click-copy-copy Xpath. then you will find the path is *[@id=\"maincontent\"]/div/div[5]/div/h1/text()"
   ]
  },
  {
   "cell_type": "code",
   "execution_count": 57,
   "metadata": {
    "slideshow": {
     "slide_type": "skip"
    }
   },
   "outputs": [],
   "source": [
    "title = tree.xpath('//*[@id=\"maincontent\"]/div/div[5]/div/h1/text()')"
   ]
  },
  {
   "cell_type": "code",
   "execution_count": 66,
   "metadata": {
    "slideshow": {
     "slide_type": "skip"
    }
   },
   "outputs": [
    {
     "name": "stdout",
     "output_type": "stream",
     "text": [
      "['Famine, social disruption, and involuntary fetal loss: evidence from Chinese survey data.']\n"
     ]
    },
    {
     "data": {
      "text/plain": [
       "list"
      ]
     },
     "execution_count": 66,
     "metadata": {},
     "output_type": "execute_result"
    }
   ],
   "source": [
    "print(title)\n",
    "type(title)"
   ]
  },
  {
   "cell_type": "markdown",
   "metadata": {
    "slideshow": {
     "slide_type": "slide"
    }
   },
   "source": [
    "### Articles published in American Journal of Sociology "
   ]
  },
  {
   "cell_type": "markdown",
   "metadata": {
    "slideshow": {
     "slide_type": "fragment"
    }
   },
   "source": [
    "#### Here is an example: scraping all  articles titles published in the AJS from 2010-2019, 1800 in total"
   ]
  },
  {
   "cell_type": "code",
   "execution_count": 2,
   "metadata": {
    "slideshow": {
     "slide_type": "skip"
    }
   },
   "outputs": [],
   "source": [
    "from datetime import datetime\n",
    "from urllib.request import urlopen\n",
    "from bs4 import BeautifulSoup\n",
    "import numpy as np\n",
    "import pandas as pd\n",
    "pd.set_option('display.max_rows', 3200)\n"
   ]
  },
  {
   "cell_type": "markdown",
   "metadata": {
    "slideshow": {
     "slide_type": "slide"
    }
   },
   "source": [
    "The following workflow enables you to crawl all article titles published in AJS. Here I only obtained published articles for the last 10 years."
   ]
  },
  {
   "cell_type": "code",
   "execution_count": 466,
   "metadata": {
    "slideshow": {
     "slide_type": "fragment"
    }
   },
   "outputs": [],
   "source": [
    "t1=[]\n",
    "j1=[]\n",
    "for j in range(1, 37):\n",
    "    html0='http://apps.webofknowledge.com/summary.do?product=WOS&colName=WOS&qid=1&SID=7DvsabUuPjyfkHd9SzC&search_mode=AdvancedSearch&formValue(summary_mode)=AdvancedSearch&update_back2search_link_param=yes&page=%d'% j\n",
    "    html = urlopen(html0)\n",
    "    bs = BeautifulSoup(html.read(), 'html.parser')\n",
    "    List = bs.findAll('div', {'class', 'search-results-content'})\n",
    "    for i in List:\n",
    "        j = i.find('span', {'class', 'hitHilite'}).text\n",
    "        j1.append(j)\n",
    "        t=i.find('a').text.strip()\n",
    "        t1.append(t)"
   ]
  },
  {
   "cell_type": "code",
   "execution_count": 495,
   "metadata": {
    "slideshow": {
     "slide_type": "slide"
    }
   },
   "outputs": [
    {
     "data": {
      "text/plain": [
       "1800"
      ]
     },
     "execution_count": 495,
     "metadata": {},
     "output_type": "execute_result"
    }
   ],
   "source": [
    "title=(t1[0:1800])\n"
   ]
  },
  {
   "cell_type": "code",
   "execution_count": 578,
   "metadata": {
    "slideshow": {
     "slide_type": "skip"
    }
   },
   "outputs": [
    {
     "name": "stdout",
     "output_type": "stream",
     "text": [
      "<div class=\"search-results-content\"><div>\n",
      "<div>\n",
      "<span class=\"smallV110\"></span><a class=\"smallV110 snowplow-full-record\" href=\"/full_record.do?product=WOS&amp;search_mode=AdvancedSearch&amp;qid=1&amp;SID=7DvsabUuPjyfkHd9SzC&amp;page=36&amp;doc=1800\">\n",
      "<value lang_id=\"\">Operating Room: Relational Spaces and Microinstitutional Change in Surgery</value>\n",
      "</a>\n",
      "</div>\n",
      "</div>\n",
      "<div>\n",
      "<span class=\"label\">By: </span><a alt=\"Find more records by this author\" href=\"/OutboundService.do?SID=7DvsabUuPjyfkHd9SzC&amp;mode=rrcAuthorRecordService&amp;action=go&amp;product=WOS&amp;daisIds=3166608\" title=\"Find more records by this author\">Kellogg, Katherine C.</a>\n",
      "</div>\n",
      "<div>\n",
      "<span id=\"fetch_wos_subject_Span_1800\" style=\"display: none\" url=\"http://apps.webofknowledge.com/FetchESIField.do?product=WOS&amp;search_mode=CitedFullRecord&amp;SID=7DvsabUuPjyfkHd9SzC&amp;isickref=WOS:000274365700001&amp;doc=1800\"></span><span id=\"show_journal_overlay_link_1800\" name=\"show_journal_overlay_link_1800\" style=\"display: none\"><a class=\"smallV110 snowplow-JCRoverlay\" hasautosubmit=\"false\" href=\"javascript:;\" onclick=\"fetchWosSubject('1800','show_journal_overlay_1800','show_journal_overlay_link_1800');logAccessEvent('http://apps.webofknowledge.com/openoverlay.do?action=JCRoverlaynoIF&amp;product=WOS&amp;SID=7DvsabUuPjyfkHd9SzC&amp;cacheurl=no&amp;logEventUT=WOS:000274365700001');\" title=\"View journal impact\"><span>\n",
      "<value>\n",
      "<span class=\"hitHilite\">AMERICAN JOURNAL OF SOCIOLOGY</span>\n",
      "</value>\n",
      "</span></a></span><span id=\"show_journal_overlay_1800\" name=\"show_journal_overlay_1800\" style=\"display: none;\">\n",
      "<p class=\"sourceTitle\">\n",
      "<span class=\"sourceTitle_txt\">\n",
      "<source_title_txt_label>\n",
      "<value>\n",
      "<span class=\"hitHilite\">AMERICAN JOURNAL OF SOCIOLOGY</span>\n",
      "</value>\n",
      "</source_title_txt_label>\n",
      "</span><span class=\"journal_overlay_close\"><input alt=\"Hide journal information\" class=\"borderless-button\" onclick=\"close_journal_overlay(this, 'show_journal_overlay_1800'); return false;\" src=\"http://images.webofknowledge.com//WOKRS534DR1/images/xicon.png\" title=\"\" type=\"image\"/></span>\n",
      "</p>\n",
      "<div class=\"overlayJCRblock\">\n",
      "<span id=\"ifactor_1800\"></span><span id=\"category_1800\"></span>\n",
      "</div>\n",
      "<p class=\"FR_field\">\n",
      "<span class=\"FR_label\">Publisher </span><span>UNIV CHICAGO PRESS, 1427 E 60TH ST, CHICAGO, IL 60637-2954 USA</span>\n",
      "</p>\n",
      "<p class=\"FR_field sameLine\">\n",
      "<span class=\"FR_label\">ISSN: </span>\n",
      "<value>0002-9602</value>\n",
      "</p>\n",
      "<span id=\"subject_1800\"></span>\n",
      "<p class=\"closeWindow\">\n",
      "<button class=\"button4\" onclick=\"return close_journal_overlay(this, 'show_journal_overlay_1800');\" title=\"Hide journal information\" type=\"button\">Close Window</button>\n",
      "</p>\n",
      "</span><span id=\"source_title_1800\" name=\"source_title_1800\">\n",
      "<value>\n",
      "<span class=\"hitHilite\">AMERICAN JOURNAL OF SOCIOLOGY</span>\n",
      "</value>\n",
      "</span>  <span class=\"label\">Volume: </span><span class=\"data_bold\">\n",
      "<value>115</value>\n",
      "</span>   <span class=\"label\">Issue: </span><span class=\"data_bold\">\n",
      "<value>3</value>\n",
      "</span>   <span class=\"label\">Pages: </span><span class=\"data_bold\">\n",
      "<value>657-711</value>\n",
      "</span>   <span class=\"label\">Published: </span><span class=\"data_bold\">\n",
      "<value>NOV 2009</value>\n",
      "</span> <span id=\"doi_1800\" name=\"doi\" style=\"display: none\">10.1086/603535</span>\n",
      "</div>\n",
      "<div>\n",
      "<input id=\"recordCollectionid_1800\" type=\"hidden\" value=\"WOS\"/>\n",
      "</div>\n",
      "<div id=\"links_1800\" style=\"display: inline-block; margin-top: 8px;\">\n",
      "<nobr><span id=\"links_openurl_1800\"></span> <span id=\"links_full_text_1800\"></span> <span id=\"links_doc_del_1800\"></span> <span id=\"links_patent_1800\"></span> <span id=\"links_open_access_1800\"></span> </nobr>\n",
      "</div>\n",
      "<span id=\"btn_placeholder_kop_1800\"></span><span id=\"open_access_for_1800\" style=\"display: none\" value=\"YES\">YES</span><span doc_id=\"288772900\" id=\"open_url_1800_1\" is_best=\"Y\" journal_id=\"AMERICAN JOURNAL OF SOCIOLOGY\" name=\"open_url\" oas_type=\"green_published\" publisher_id=\"UNIV CHICAGO PRESS\" style=\"display: none\" ut=\"WOS:000274365700001\" value=\"https://dspace.mit.edu/bitstream/1721.1/107898/1/Kellogg_Operating%20Room_AJS.pdf\"></span>\n",
      "<div class=\"search-action-item\">\n",
      "<span class=\"solo_full_text\" id=\"solo_full_text_1800\"></span><a class=\"button2link margin-right-3\" href=\"javascript:;\" id=\"full_text_1800\" name=\"full_text_1800\" title=\"\"><span class=\"small-button secondary-button\" id=\"full_text_1800\" name=\"full_text_1800\" title=\"\">Full Text</span></a>\n",
      "<div class=\"popup-full-text\" id=\"full_text_1800_menu\">\n",
      "<span id=\"full_text_1800_links\"></span>\n",
      "</div>\n",
      "</div>\n",
      "<script type=\"text/javascript\">$(\"#full_text_1800\").hide();</script><span class=\"button-abstract vertical-align-initial margin-right-3 viewAbstract-span\" id=\"ViewAbstract1800_text\"><button aria-pressed=\"false\" class=\"borderless-button abstract--buttondown\" id=\"buttonToggle1800\" onclick=\"abstractBtnClick('1800', 'View Abstract', 'Close Abstract', event);\" onkeypress=\"abstractKeyPress('1800', 'View Abstract', 'Close Abstract', event);\" type=\"button\"><span class=\"abstract-text\" id=\"abstract-text1800\">View Abstract</span><i class=\"icon-arrow--new\"></i></button></span><span id=\"ViewAbstract_Span1800\" style=\"display: none\" url=\"http://apps.webofknowledge.com/ViewAbstract.do?product=WOS&amp;search_mode=AdvancedSearch&amp;viewType=ViewAbstract&amp;qid=1&amp;SID=7DvsabUuPjyfkHd9SzC&amp;page=36&amp;doc=1800\">\n",
      "<!-- --></span></div>\n"
     ]
    }
   ],
   "source": [
    "## this is the source code \n",
    "test=bs.findAll('div', {'class', 'search-results-content'})\n",
    "for i in test:\n",
    "    z=i\n",
    "print(z)    \n",
    "    "
   ]
  },
  {
   "cell_type": "code",
   "execution_count": 515,
   "metadata": {
    "slideshow": {
     "slide_type": "skip"
    }
   },
   "outputs": [],
   "source": [
    "#j3=j1+j2\n",
    "## create a id variable \n",
    "id= [x for x in range (1, 1801)]"
   ]
  },
  {
   "cell_type": "markdown",
   "metadata": {
    "slideshow": {
     "slide_type": "slide"
    }
   },
   "source": [
    "#### let's take a look of the data and save it into a csv file"
   ]
  },
  {
   "cell_type": "code",
   "execution_count": null,
   "metadata": {
    "slideshow": {
     "slide_type": "slide"
    }
   },
   "outputs": [],
   "source": [
    "title10_19 = {'id':id, 'title':title,'journal':j3}\n",
    "df=pd.DataFrame(title10_19)"
   ]
  },
  {
   "cell_type": "code",
   "execution_count": 12,
   "metadata": {
    "scrolled": true,
    "slideshow": {
     "slide_type": "slide"
    }
   },
   "outputs": [
    {
     "data": {
      "text/html": [
       "<div>\n",
       "<style scoped>\n",
       "    .dataframe tbody tr th:only-of-type {\n",
       "        vertical-align: middle;\n",
       "    }\n",
       "\n",
       "    .dataframe tbody tr th {\n",
       "        vertical-align: top;\n",
       "    }\n",
       "\n",
       "    .dataframe thead th {\n",
       "        text-align: right;\n",
       "    }\n",
       "</style>\n",
       "<table border=\"1\" class=\"dataframe\">\n",
       "  <thead>\n",
       "    <tr style=\"text-align: right;\">\n",
       "      <th></th>\n",
       "      <th>id</th>\n",
       "      <th>title</th>\n",
       "      <th>journal</th>\n",
       "    </tr>\n",
       "  </thead>\n",
       "  <tbody>\n",
       "    <tr>\n",
       "      <th>0</th>\n",
       "      <td>1</td>\n",
       "      <td>Decoupling: Marital Violence and the Struggle ...</td>\n",
       "      <td>AMERICAN JOURNAL OF SOCIOLOGY</td>\n",
       "    </tr>\n",
       "    <tr>\n",
       "      <th>1</th>\n",
       "      <td>2</td>\n",
       "      <td>How Organizational Minorities Form and Use Soc...</td>\n",
       "      <td>AMERICAN JOURNAL OF SOCIOLOGY</td>\n",
       "    </tr>\n",
       "    <tr>\n",
       "      <th>2</th>\n",
       "      <td>3</td>\n",
       "      <td>More Than a Sorting Machine: Ethnic Boundary M...</td>\n",
       "      <td>AMERICAN JOURNAL OF SOCIOLOGY</td>\n",
       "    </tr>\n",
       "    <tr>\n",
       "      <th>3</th>\n",
       "      <td>4</td>\n",
       "      <td>How Do Criminal Courts Respond in Times of Cri...</td>\n",
       "      <td>AMERICAN JOURNAL OF SOCIOLOGY</td>\n",
       "    </tr>\n",
       "    <tr>\n",
       "      <th>4</th>\n",
       "      <td>5</td>\n",
       "      <td>Gender Pay Gaps in US Federal Science Agencies...</td>\n",
       "      <td>AMERICAN JOURNAL OF SOCIOLOGY</td>\n",
       "    </tr>\n",
       "    <tr>\n",
       "      <th>5</th>\n",
       "      <td>6</td>\n",
       "      <td>For-Profit Democracy: Why the Government Is Lo...</td>\n",
       "      <td>AMERICAN JOURNAL OF SOCIOLOGY</td>\n",
       "    </tr>\n",
       "    <tr>\n",
       "      <th>6</th>\n",
       "      <td>7</td>\n",
       "      <td>War, Women, and Power: From Violence to Mobili...</td>\n",
       "      <td>AMERICAN JOURNAL OF SOCIOLOGY</td>\n",
       "    </tr>\n",
       "    <tr>\n",
       "      <th>7</th>\n",
       "      <td>8</td>\n",
       "      <td>The Medicalisation of Incest and Abuse: Biomed...</td>\n",
       "      <td>AMERICAN JOURNAL OF SOCIOLOGY</td>\n",
       "    </tr>\n",
       "    <tr>\n",
       "      <th>8</th>\n",
       "      <td>9</td>\n",
       "      <td>When Police Use Force: Context, Methods, and O...</td>\n",
       "      <td>AMERICAN JOURNAL OF SOCIOLOGY</td>\n",
       "    </tr>\n",
       "    <tr>\n",
       "      <th>9</th>\n",
       "      <td>10</td>\n",
       "      <td>Pathways of Desire: The Sexual Migration of Me...</td>\n",
       "      <td>AMERICAN JOURNAL OF SOCIOLOGY</td>\n",
       "    </tr>\n",
       "    <tr>\n",
       "      <th>10</th>\n",
       "      <td>11</td>\n",
       "      <td>Words of Passage: National Longing and the Ima...</td>\n",
       "      <td>AMERICAN JOURNAL OF SOCIOLOGY</td>\n",
       "    </tr>\n",
       "    <tr>\n",
       "      <th>11</th>\n",
       "      <td>12</td>\n",
       "      <td>Morals Not Knowledge: Recasting the Contempora...</td>\n",
       "      <td>AMERICAN JOURNAL OF SOCIOLOGY</td>\n",
       "    </tr>\n",
       "    <tr>\n",
       "      <th>12</th>\n",
       "      <td>13</td>\n",
       "      <td>French Gastronomy and the Magic of Americanism</td>\n",
       "      <td>AMERICAN JOURNAL OF SOCIOLOGY</td>\n",
       "    </tr>\n",
       "    <tr>\n",
       "      <th>13</th>\n",
       "      <td>14</td>\n",
       "      <td>Social Inequality, Criminal Justice, and Race ...</td>\n",
       "      <td>AMERICAN JOURNAL OF SOCIOLOGY</td>\n",
       "    </tr>\n",
       "    <tr>\n",
       "      <th>14</th>\n",
       "      <td>15</td>\n",
       "      <td>White Kids: Growing Up with Privilege in a Rac...</td>\n",
       "      <td>AMERICAN JOURNAL OF SOCIOLOGY</td>\n",
       "    </tr>\n",
       "    <tr>\n",
       "      <th>15</th>\n",
       "      <td>16</td>\n",
       "      <td>The Logics of Gender Justice: State Action on ...</td>\n",
       "      <td>AMERICAN JOURNAL OF SOCIOLOGY</td>\n",
       "    </tr>\n",
       "    <tr>\n",
       "      <th>16</th>\n",
       "      <td>17</td>\n",
       "      <td>Palaces for the People: How Social Infrastruct...</td>\n",
       "      <td>AMERICAN JOURNAL OF SOCIOLOGY</td>\n",
       "    </tr>\n",
       "    <tr>\n",
       "      <th>17</th>\n",
       "      <td>18</td>\n",
       "      <td>Between Foreign and Family: Return Migration a...</td>\n",
       "      <td>AMERICAN JOURNAL OF SOCIOLOGY</td>\n",
       "    </tr>\n",
       "    <tr>\n",
       "      <th>18</th>\n",
       "      <td>19</td>\n",
       "      <td>Better Safe than Sorry: How Consumers Navigate...</td>\n",
       "      <td>AMERICAN JOURNAL OF SOCIOLOGY</td>\n",
       "    </tr>\n",
       "    <tr>\n",
       "      <th>19</th>\n",
       "      <td>20</td>\n",
       "      <td>Beyond the City and the Bridge: East Asian Imm...</td>\n",
       "      <td>AMERICAN JOURNAL OF SOCIOLOGY</td>\n",
       "    </tr>\n",
       "  </tbody>\n",
       "</table>\n",
       "</div>"
      ],
      "text/plain": [
       "    id                                              title  \\\n",
       "0    1  Decoupling: Marital Violence and the Struggle ...   \n",
       "1    2  How Organizational Minorities Form and Use Soc...   \n",
       "2    3  More Than a Sorting Machine: Ethnic Boundary M...   \n",
       "3    4  How Do Criminal Courts Respond in Times of Cri...   \n",
       "4    5  Gender Pay Gaps in US Federal Science Agencies...   \n",
       "5    6  For-Profit Democracy: Why the Government Is Lo...   \n",
       "6    7  War, Women, and Power: From Violence to Mobili...   \n",
       "7    8  The Medicalisation of Incest and Abuse: Biomed...   \n",
       "8    9  When Police Use Force: Context, Methods, and O...   \n",
       "9   10  Pathways of Desire: The Sexual Migration of Me...   \n",
       "10  11  Words of Passage: National Longing and the Ima...   \n",
       "11  12  Morals Not Knowledge: Recasting the Contempora...   \n",
       "12  13     French Gastronomy and the Magic of Americanism   \n",
       "13  14  Social Inequality, Criminal Justice, and Race ...   \n",
       "14  15  White Kids: Growing Up with Privilege in a Rac...   \n",
       "15  16  The Logics of Gender Justice: State Action on ...   \n",
       "16  17  Palaces for the People: How Social Infrastruct...   \n",
       "17  18  Between Foreign and Family: Return Migration a...   \n",
       "18  19  Better Safe than Sorry: How Consumers Navigate...   \n",
       "19  20  Beyond the City and the Bridge: East Asian Imm...   \n",
       "\n",
       "                          journal  \n",
       "0   AMERICAN JOURNAL OF SOCIOLOGY  \n",
       "1   AMERICAN JOURNAL OF SOCIOLOGY  \n",
       "2   AMERICAN JOURNAL OF SOCIOLOGY  \n",
       "3   AMERICAN JOURNAL OF SOCIOLOGY  \n",
       "4   AMERICAN JOURNAL OF SOCIOLOGY  \n",
       "5   AMERICAN JOURNAL OF SOCIOLOGY  \n",
       "6   AMERICAN JOURNAL OF SOCIOLOGY  \n",
       "7   AMERICAN JOURNAL OF SOCIOLOGY  \n",
       "8   AMERICAN JOURNAL OF SOCIOLOGY  \n",
       "9   AMERICAN JOURNAL OF SOCIOLOGY  \n",
       "10  AMERICAN JOURNAL OF SOCIOLOGY  \n",
       "11  AMERICAN JOURNAL OF SOCIOLOGY  \n",
       "12  AMERICAN JOURNAL OF SOCIOLOGY  \n",
       "13  AMERICAN JOURNAL OF SOCIOLOGY  \n",
       "14  AMERICAN JOURNAL OF SOCIOLOGY  \n",
       "15  AMERICAN JOURNAL OF SOCIOLOGY  \n",
       "16  AMERICAN JOURNAL OF SOCIOLOGY  \n",
       "17  AMERICAN JOURNAL OF SOCIOLOGY  \n",
       "18  AMERICAN JOURNAL OF SOCIOLOGY  \n",
       "19  AMERICAN JOURNAL OF SOCIOLOGY  "
      ]
     },
     "execution_count": 12,
     "metadata": {},
     "output_type": "execute_result"
    }
   ],
   "source": [
    "df.head(10) # the first 20 titles we got"
   ]
  },
  {
   "cell_type": "code",
   "execution_count": null,
   "metadata": {
    "slideshow": {
     "slide_type": "slide"
    }
   },
   "outputs": [],
   "source": [
    "df.to_csv(\"title10_19.csv\") # save data to a csv file"
   ]
  },
  {
   "cell_type": "markdown",
   "metadata": {
    "slideshow": {
     "slide_type": "fragment"
    }
   },
   "source": [
    "#### In most case, beautiful soup is good enough for samll scale scraping. "
   ]
  }
 ],
 "metadata": {
  "celltoolbar": "Slideshow",
  "kernelspec": {
   "display_name": "Python 3",
   "language": "python",
   "name": "python3"
  },
  "language_info": {
   "codemirror_mode": {
    "name": "ipython",
    "version": 3
   },
   "file_extension": ".py",
   "mimetype": "text/x-python",
   "name": "python",
   "nbconvert_exporter": "python",
   "pygments_lexer": "ipython3",
   "version": "3.7.2"
  }
 },
 "nbformat": 4,
 "nbformat_minor": 2
}
